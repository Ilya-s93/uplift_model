{
 "cells": [
  {
   "cell_type": "markdown",
   "metadata": {},
   "source": [
    "## Uplift-моделирование"
   ]
  },
  {
   "cell_type": "code",
   "execution_count": 17,
   "metadata": {},
   "outputs": [],
   "source": [
    "# Импорт библиотек\n",
    "import pandas as pd\n",
    "import numpy as np\n",
    "import matplotlib.pyplot as plt\n",
    "\n",
    "from sklearn.model_selection import train_test_split\n",
    "from sklearn.preprocessing import StandardScaler, OneHotEncoder\n",
    "from sklearn.compose import ColumnTransformer\n",
    "from sklearn.pipeline import Pipeline\n",
    "from sklearn.ensemble import RandomForestRegressor\n",
    "from sklearn.metrics import mean_squared_error, auc\n",
    "\n",
    "import warnings\n",
    "warnings.filterwarnings('ignore')"
   ]
  },
  {
   "cell_type": "code",
   "execution_count": 2,
   "metadata": {},
   "outputs": [],
   "source": [
    "# Пример данных\n",
    "data = pd.DataFrame({\n",
    "    'user_id': [1, 2, 3, 4, 5, 6],\n",
    "    'treatment': [1, 0, 1, 0, 1, 0],\n",
    "    'num_trips': [10, 8, 12, 7, 9, 6],\n",
    "    'avg_trip_cost': [15, 12, 14, 11, 13, 10],\n",
    "    'gender': ['M', 'F', 'M', 'F', 'M', 'F'],\n",
    "    'location': ['City A', 'City B', 'City A', 'City B', 'City A', 'City B'],\n",
    "    'target': [5, 2, 7, 1, 4, 0]\n",
    "})\n",
    "\n",
    "# Трансформация целевой переменной\n",
    "data['target_transformed'] = data.apply(\n",
    "    lambda row: row['target'] if row['treatment'] == 1 else -row['target'], axis=1)"
   ]
  },
  {
   "cell_type": "code",
   "execution_count": 3,
   "metadata": {},
   "outputs": [],
   "source": [
    "# Целевая переменная и признаки\n",
    "y = data['target_transformed']\n",
    "X = data.drop(['target', 'target_transformed', 'user_id'], axis=1)\n",
    "\n",
    "# Разделение данных\n",
    "X_train, X_test, y_train, y_test = train_test_split(X, y, test_size=0.2, random_state=42)\n",
    "\n",
    "# Предобработка данных\n",
    "numeric_features = ['num_trips', 'avg_trip_cost']\n",
    "categorical_features = ['gender', 'location']\n",
    "\n",
    "preprocessor = ColumnTransformer(\n",
    "    transformers=[\n",
    "        ('num', StandardScaler(), numeric_features),\n",
    "        ('cat', OneHotEncoder(), categorical_features)\n",
    "    ])\n"
   ]
  },
  {
   "cell_type": "code",
   "execution_count": 4,
   "metadata": {},
   "outputs": [
    {
     "name": "stdout",
     "output_type": "stream",
     "text": [
      "Mean Squared Error: 1.6202\n",
      "Predictions: [ 4.98 -0.2 ]\n"
     ]
    }
   ],
   "source": [
    "# Модель\n",
    "model = Pipeline(steps=[\n",
    "    ('preprocessor', preprocessor),\n",
    "    ('regressor', RandomForestRegressor(random_state=42))\n",
    "])\n",
    "\n",
    "# Обучение модели\n",
    "model.fit(X_train, y_train)\n",
    "\n",
    "# Оценка модели\n",
    "y_pred = model.predict(X_test)\n",
    "mse = mean_squared_error(y_test, y_pred)\n",
    "\n",
    "print(\"Mean Squared Error:\", mse)\n",
    "print(\"Predictions:\", y_pred)"
   ]
  },
  {
   "cell_type": "code",
   "execution_count": 5,
   "metadata": {},
   "outputs": [
    {
     "name": "stdout",
     "output_type": "stream",
     "text": [
      "Users to give discount:\n",
      "   user_id  predicted_uplift\n",
      "0        1              4.98\n",
      "2        3              5.64\n",
      "4        5              4.24\n"
     ]
    }
   ],
   "source": [
    "# Применение модели ко всем данным\n",
    "all_data_predictions = model.predict(X)\n",
    "\n",
    "# Устанавливаем пороговое значение для предоставления скидок\n",
    "threshold = 1.0  \n",
    "\n",
    "# Определение пользователей, которым рекомендуется предоставить скидку\n",
    "data['predicted_uplift'] = all_data_predictions\n",
    "data['give_discount'] = data['predicted_uplift'] > threshold\n",
    "\n",
    "# Вывод пользователей, которым рекомендуется предоставить скидку\n",
    "users_to_give_discount = data[data['give_discount']]\n",
    "\n",
    "print(\"Users to give discount:\")\n",
    "print(users_to_give_discount[['user_id', 'predicted_uplift']])"
   ]
  },
  {
   "cell_type": "markdown",
   "metadata": {},
   "source": [
    "## Qini-кривая и оценка качества"
   ]
  },
  {
   "cell_type": "code",
   "execution_count": 7,
   "metadata": {},
   "outputs": [
    {
     "name": "stdout",
     "output_type": "stream",
     "text": [
      "   user_id  treatment  outcome  uplift_prediction\n",
      "0        1          1        0           0.031429\n",
      "1        2          1        0           0.636410\n",
      "2        3          1        0           0.314356\n",
      "3        4          1        0           0.508571\n",
      "4        5          1        1           0.907566\n"
     ]
    }
   ],
   "source": [
    "# генерация данных для 100 пользователей\n",
    "np.random.seed(42)\n",
    "n = 100\n",
    "treatment = np.array([1]*50 + [0]*50)\n",
    "outcome = np.concatenate([np.random.choice([1, 0], p=[0.2, 0.8], size=50),\n",
    "                          np.random.choice([1, 0], p=[0.1, 0.9], size=50)])\n",
    "uplift_prediction = np.random.rand(n)\n",
    "\n",
    "# создание DataFrame\n",
    "data = {\n",
    "    'user_id': range(1, n+1),\n",
    "    'treatment': treatment,\n",
    "    'outcome': outcome,\n",
    "    'uplift_prediction': uplift_prediction\n",
    "}\n",
    "\n",
    "df = pd.DataFrame(data)\n",
    "print(df.head())"
   ]
  },
  {
   "cell_type": "code",
   "execution_count": 8,
   "metadata": {},
   "outputs": [
    {
     "name": "stdout",
     "output_type": "stream",
     "text": [
      "   user_id  treatment  outcome  uplift_prediction\n",
      "0       55          0        0           0.985650\n",
      "1       40          1        0           0.971782\n",
      "2       41          1        1           0.962447\n",
      "3       35          1        0           0.942910\n",
      "4       79          0        0           0.936730\n"
     ]
    }
   ],
   "source": [
    "# сортировка данных по uplift_prediction\n",
    "df = df.sort_values(by='uplift_prediction', ascending=False).reset_index(drop=True)\n",
    "print(df.head())"
   ]
  },
  {
   "cell_type": "code",
   "execution_count": 9,
   "metadata": {},
   "outputs": [],
   "source": [
    "# Инициализация переменных для расчёта CGain и Random\n",
    "nt = 0\n",
    "nt_1 = 0\n",
    "nc = 0\n",
    "nc_1 = 0\n",
    "cgain = []\n",
    "random = []\n",
    "optimum = []\n",
    "incremental_purchases = 0\n",
    "opt_incremental_purchases = df['outcome'].sum()"
   ]
  },
  {
   "cell_type": "code",
   "execution_count": 10,
   "metadata": {},
   "outputs": [],
   "source": [
    "# расчёт CGain, Random и Optimum\n",
    "for i, row in df.iterrows():\n",
    "    if row['treatment'] == 1:\n",
    "        nt += 1\n",
    "        if row['outcome'] == 1:\n",
    "            nt_1 += 1\n",
    "            incremental_purchases += 1\n",
    "    else:\n",
    "        nc += 1\n",
    "        if row['outcome'] == 1:\n",
    "            nc_1 += 1\n",
    "\n",
    "    cgain.append(incremental_purchases)\n",
    "    random.append(opt_incremental_purchases * (i + 1) / len(df))\n",
    "    optimum.append(min(opt_incremental_purchases, (i + 1) * 1.0))"
   ]
  },
  {
   "cell_type": "code",
   "execution_count": 12,
   "metadata": {},
   "outputs": [
    {
     "name": "stdout",
     "output_type": "stream",
     "text": [
      "Qini Score: -264.3900000000001\n"
     ]
    }
   ],
   "source": [
    "# расчет метрики\n",
    "# расчёт площади под кривыми\n",
    "qini_auc = auc(range(1, len(cgain) + 1), cgain)\n",
    "random_auc = auc(range(1, len(random) + 1), random)\n",
    "\n",
    "# расчёт Qini Score\n",
    "qini_score = qini_auc - random_auc\n",
    "\n",
    "# вывод Qini Score\n",
    "print(f'Qini Score: {qini_score}')"
   ]
  },
  {
   "cell_type": "code",
   "execution_count": 16,
   "metadata": {},
   "outputs": [
    {
     "data": {
      "image/png": "[encoded data removed]",
      "text/plain": [
       "<Figure size 1000x600 with 1 Axes>"
      ]
     },
     "metadata": {},
     "output_type": "display_data"
    }
   ],
   "source": [
    "# построение графиков\n",
    "plt.figure(figsize=(10, 6))\n",
    "plt.plot(range(1, len(cgain) + 1), cgain, label='Model', color='blue')\n",
    "plt.plot(range(1, len(random) + 1), random, label='Random', color='red', linestyle='--')\n",
    "plt.plot(range(1, len(optimum) + 1), optimum, label='Optimum', color='green', linestyle='--')\n",
    "plt.xlabel('Количество целевых клиентов(тысяч)')\n",
    "plt.ylabel('Количество дополнительных покупок(тысяч)')\n",
    "plt.title('Кривая прироста для Uplift (Qini Curve) с Random')\n",
    "plt.legend()\n",
    "plt.grid(True)\n",
    "plt.show()"
   ]
  },
  {
   "cell_type": "markdown",
   "metadata": {},
   "source": [
    "Qini Score: -264.39 указывает на то, что производительность модели значительно хуже, чем случайный отбор. В контексте uplift-моделирования отрицательный Qini Score говорит о том, что предсказания модели неэффективно определяют пользователей, которые бы получили наибольший прирост от воздействия. Такие предсказания даже могут вызывать отрицательный uplift, чего бы не произошло, если бы модель не использовалась вовсе. Это говорит о том, что необходимо улучшить точность модели в предсказании uplift."
   ]
  },
  {
   "cell_type": "markdown",
   "metadata": {},
   "source": [
    "## Задание"
   ]
  },
  {
   "cell_type": "code",
   "execution_count": 19,
   "metadata": {},
   "outputs": [
    {
     "data": {
      "text/html": [
       "<div>\n",
       "<style scoped>\n",
       "    .dataframe tbody tr th:only-of-type {\n",
       "        vertical-align: middle;\n",
       "    }\n",
       "\n",
       "    .dataframe tbody tr th {\n",
       "        vertical-align: top;\n",
       "    }\n",
       "\n",
       "    .dataframe thead th {\n",
       "        text-align: right;\n",
       "    }\n",
       "</style>\n",
       "<table border=\"1\" class=\"dataframe\">\n",
       "  <thead>\n",
       "    <tr style=\"text-align: right;\">\n",
       "      <th></th>\n",
       "      <th>recency</th>\n",
       "      <th>history</th>\n",
       "      <th>used_discount</th>\n",
       "      <th>used_bogo</th>\n",
       "      <th>is_referral</th>\n",
       "      <th>treatment</th>\n",
       "      <th>zip_code_Rural</th>\n",
       "      <th>zip_code_Surburban</th>\n",
       "      <th>zip_code_Urban</th>\n",
       "      <th>channel_Multichannel</th>\n",
       "      <th>channel_Phone</th>\n",
       "      <th>channel_Web</th>\n",
       "      <th>proba_CN</th>\n",
       "      <th>proba_CR</th>\n",
       "      <th>proba_TN</th>\n",
       "      <th>proba_TR</th>\n",
       "      <th>uplift_score</th>\n",
       "      <th>target_class</th>\n",
       "    </tr>\n",
       "  </thead>\n",
       "  <tbody>\n",
       "    <tr>\n",
       "      <th>0</th>\n",
       "      <td>3</td>\n",
       "      <td>977.51</td>\n",
       "      <td>1</td>\n",
       "      <td>1</td>\n",
       "      <td>1</td>\n",
       "      <td>0</td>\n",
       "      <td>0</td>\n",
       "      <td>0</td>\n",
       "      <td>1</td>\n",
       "      <td>0</td>\n",
       "      <td>0</td>\n",
       "      <td>1</td>\n",
       "      <td>0.476095</td>\n",
       "      <td>0.159710</td>\n",
       "      <td>0.280660</td>\n",
       "      <td>0.083534</td>\n",
       "      <td>-0.043654</td>\n",
       "      <td>0</td>\n",
       "    </tr>\n",
       "    <tr>\n",
       "      <th>1</th>\n",
       "      <td>4</td>\n",
       "      <td>391.10</td>\n",
       "      <td>1</td>\n",
       "      <td>0</td>\n",
       "      <td>0</td>\n",
       "      <td>0</td>\n",
       "      <td>1</td>\n",
       "      <td>0</td>\n",
       "      <td>0</td>\n",
       "      <td>1</td>\n",
       "      <td>0</td>\n",
       "      <td>0</td>\n",
       "      <td>0.443035</td>\n",
       "      <td>0.087289</td>\n",
       "      <td>0.285081</td>\n",
       "      <td>0.184594</td>\n",
       "      <td>0.456858</td>\n",
       "      <td>0</td>\n",
       "    </tr>\n",
       "    <tr>\n",
       "      <th>2</th>\n",
       "      <td>7</td>\n",
       "      <td>72.37</td>\n",
       "      <td>1</td>\n",
       "      <td>0</td>\n",
       "      <td>1</td>\n",
       "      <td>1</td>\n",
       "      <td>0</td>\n",
       "      <td>0</td>\n",
       "      <td>1</td>\n",
       "      <td>0</td>\n",
       "      <td>0</td>\n",
       "      <td>1</td>\n",
       "      <td>0.514386</td>\n",
       "      <td>0.015488</td>\n",
       "      <td>0.429174</td>\n",
       "      <td>0.040952</td>\n",
       "      <td>0.115756</td>\n",
       "      <td>2</td>\n",
       "    </tr>\n",
       "    <tr>\n",
       "      <th>3</th>\n",
       "      <td>10</td>\n",
       "      <td>67.40</td>\n",
       "      <td>1</td>\n",
       "      <td>0</td>\n",
       "      <td>0</td>\n",
       "      <td>1</td>\n",
       "      <td>0</td>\n",
       "      <td>0</td>\n",
       "      <td>1</td>\n",
       "      <td>0</td>\n",
       "      <td>0</td>\n",
       "      <td>1</td>\n",
       "      <td>0.386800</td>\n",
       "      <td>0.125233</td>\n",
       "      <td>0.415839</td>\n",
       "      <td>0.072128</td>\n",
       "      <td>-0.193534</td>\n",
       "      <td>2</td>\n",
       "    </tr>\n",
       "    <tr>\n",
       "      <th>4</th>\n",
       "      <td>2</td>\n",
       "      <td>45.68</td>\n",
       "      <td>1</td>\n",
       "      <td>0</td>\n",
       "      <td>1</td>\n",
       "      <td>1</td>\n",
       "      <td>0</td>\n",
       "      <td>0</td>\n",
       "      <td>1</td>\n",
       "      <td>0</td>\n",
       "      <td>1</td>\n",
       "      <td>0</td>\n",
       "      <td>0.517491</td>\n",
       "      <td>0.022507</td>\n",
       "      <td>0.412372</td>\n",
       "      <td>0.047630</td>\n",
       "      <td>0.123726</td>\n",
       "      <td>2</td>\n",
       "    </tr>\n",
       "  </tbody>\n",
       "</table>\n",
       "</div>"
      ],
      "text/plain": [
       "   recency  history  used_discount  used_bogo  is_referral  treatment  \\\n",
       "0        3   977.51              1          1            1          0   \n",
       "1        4   391.10              1          0            0          0   \n",
       "2        7    72.37              1          0            1          1   \n",
       "3       10    67.40              1          0            0          1   \n",
       "4        2    45.68              1          0            1          1   \n",
       "\n",
       "   zip_code_Rural  zip_code_Surburban  zip_code_Urban  channel_Multichannel  \\\n",
       "0               0                   0               1                     0   \n",
       "1               1                   0               0                     1   \n",
       "2               0                   0               1                     0   \n",
       "3               0                   0               1                     0   \n",
       "4               0                   0               1                     0   \n",
       "\n",
       "   channel_Phone  channel_Web  proba_CN  proba_CR  proba_TN  proba_TR  \\\n",
       "0              0            1  0.476095  0.159710  0.280660  0.083534   \n",
       "1              0            0  0.443035  0.087289  0.285081  0.184594   \n",
       "2              0            1  0.514386  0.015488  0.429174  0.040952   \n",
       "3              0            1  0.386800  0.125233  0.415839  0.072128   \n",
       "4              1            0  0.517491  0.022507  0.412372  0.047630   \n",
       "\n",
       "   uplift_score  target_class  \n",
       "0     -0.043654             0  \n",
       "1      0.456858             0  \n",
       "2      0.115756             2  \n",
       "3     -0.193534             2  \n",
       "4      0.123726             2  "
      ]
     },
     "execution_count": 19,
     "metadata": {},
     "output_type": "execute_result"
    }
   ],
   "source": [
    "%matplotlib inline\n",
    "# загружаем DataFrame\n",
    "discount = pd.read_csv(\"discountuplift.csv\", sep=\"\\t\")\n",
    "discount.head()"
   ]
  },
  {
   "cell_type": "code",
   "execution_count": 20,
   "metadata": {},
   "outputs": [
    {
     "data": {
      "image/png": "[encoded data removed]",
      "text/plain": [
       "<Figure size 640x480 with 1 Axes>"
      ]
     },
     "metadata": {},
     "output_type": "display_data"
    },
    {
     "data": {
      "text/plain": [
       "33.17995"
      ]
     },
     "execution_count": 20,
     "metadata": {},
     "output_type": "execute_result"
    }
   ],
   "source": [
    "# реализуем подсчёт Qini Score:\n",
    "def qini_df(df):\n",
    "    # 1. Отранжируем выборку по значению uplift в порядке убывания\n",
    "    ranked = df.sort_values(\"uplift_score\", ascending=False)\n",
    "    \n",
    "    N_c = sum(ranked['target_class'] <= 1)\n",
    "    N_t = sum(ranked['target_class'] >= 2)\n",
    "    \n",
    "    # посчитаем в отсортированном датафрейме основные показатели, \n",
    "    # которые используются при расчёте Qini Score\n",
    "    ranked['n_c1'] = 0\n",
    "    ranked['n_t1'] = 0\n",
    "    ranked.loc[ranked.target_class == 1,'n_c1'] = 1\n",
    "    ranked.loc[ranked.target_class == 3,'n_t1'] = 1\n",
    "    ranked['n_c1/nc'] = ranked.n_c1.cumsum() / N_c\n",
    "    ranked['n_t1/nt'] = ranked.n_t1.cumsum() / N_t\n",
    "    \n",
    "    \n",
    "    # посчитаем Qini-кривую и случайную прямую под ней\n",
    "    ranked['uplift'] = round(ranked[\"n_t1/nt\"] - ranked[\"n_c1/nc\"], 5)\n",
    "    # добавим случайную кривую\n",
    "    ranked['random_uplift'] = round(\n",
    "        ranked[\"uplift_score\"].rank(pct=True, ascending=False)\n",
    "        * ranked[\"uplift\"].iloc[-1],\n",
    "        5,\n",
    "    )\n",
    "    ranked[\"n\"] = ranked[\"uplift_score\"].rank(pct=True, ascending=False)\n",
    "    # немного кода для визуализации\n",
    "    plt.plot(ranked['n'], ranked['uplift'], color='r')\n",
    "    plt.plot(ranked['n'], ranked['random_uplift'], color='b')\n",
    "    plt.show()\n",
    "    \n",
    "    return (ranked['uplift'] - ranked['random_uplift']).sum()\n",
    "\n",
    "qini_df(discount)"
   ]
  },
  {
   "cell_type": "markdown",
   "metadata": {},
   "source": [
    "## Пример проведения A/B-теста для uplift-моделирования"
   ]
  },
  {
   "cell_type": "code",
   "execution_count": null,
   "metadata": {},
   "outputs": [],
   "source": [
    "# загрузим данные пользователей\n",
    "data = pd.read_csv(FILENAME)\n",
    "\n",
    "# добавим колонку с группой (контрольная или экспериментальная)\n",
    "np.random.seed(42)  # для воспроизводимости результатов\n",
    "data['group'] = np.random.choice(['control', 'experiment'], size=len(data))\n",
    "\n",
    "# сохраним контрольную и экспериментальную группы в отдельные переменные\n",
    "control_group = data[data['group'] == 'control']\n",
    "experiment_group = data[data['group'] == 'experiment'] "
   ]
  },
  {
   "cell_type": "code",
   "execution_count": null,
   "metadata": {},
   "outputs": [],
   "source": [
    "# добавим колонку с информацией о скидках\n",
    "data['discount'] = np.where(data['group'] == 'experiment', True, False)\n",
    "\n",
    "# проверим результат\n",
    "print(data.head())"
   ]
  },
  {
   "cell_type": "code",
   "execution_count": null,
   "metadata": {},
   "outputs": [],
   "source": [
    "# создадим DataFrame для хранения результатов теста\n",
    "results = pd.DataFrame(columns=['user_id', 'group', 'num_rides', 'total_spent'])\n",
    "\n",
    "# симуляция данных для каждой группы\n",
    "# для простоты примера мы используем случайные данные\n",
    "for _, row in data.iterrows():\n",
    "    num_rides = np.random.poisson(lam=5 if row['discount'] else 3)  # предполагаем, что скидки увеличивают среднее количество поездок\n",
    "    total_spent = num_rides * (20 if row['discount'] else 25)  # допустим, что средняя стоимость поездки отличается\n",
    "    \n",
    "    results = results.append({\n",
    "        'user_id': row['user_id'],\n",
    "        'group': row['group'],\n",
    "        'num_rides': num_rides,\n",
    "        'total_spent': total_spent\n",
    "    }, ignore_index=True)\n",
    "\n",
    "# сохраним результаты\n",
    "results.to_csv('ab_test_results.csv', index=False)"
   ]
  },
  {
   "cell_type": "code",
   "execution_count": null,
   "metadata": {},
   "outputs": [],
   "source": [
    "#После завершения теста анализируются собранные данные:\n",
    "#сравниваются результаты контрольной и экспериментальной групп;\n",
    "#оценивается, насколько значимо увеличилось количество поездок в экспериментальной группе;\n",
    "#применяются статистические тесты для определения значимости различий.\n",
    "\n",
    "from scipy import stats\n",
    "  \n",
    "# загрузим результаты теста\n",
    "results = pd.read_csv('ab_test_results.csv')\n",
    "\n",
    "# группируем данные\n",
    "grouped_results = results.groupby('group').agg({\n",
    "    'num_rides': ['mean', 'std', 'count'],\n",
    "    'total_spent': ['mean', 'std', 'count']\n",
    "})\n",
    "\n",
    "print(grouped_results)\n",
    "\n",
    "# сравниваем средние значения количества поездок\n",
    "control_rides = results[results['group'] == 'control']['num_rides']\n",
    "experiment_rides = results[results['group'] == 'experiment']['num_rides']\n",
    "\n",
    "t_stat, p_value = stats.ttest_ind(control_rides, experiment_rides)\n",
    "print(f\"t-statistic: {t_stat}, p-value: {p_value}\")\n",
    "\n",
    "# оцениваем, насколько значимо увеличилось количество поездок в экспериментальной группе\n",
    "if p_value < 0.05:\n",
    "    print(\"Различие в количестве поездок между контрольной и экспериментальной группами статистически значимо.\")\n",
    "else:\n",
    "    print(\"Различие в количестве поездок между контрольной и экспериментальной группами не является статистически значимым.\")\n"
   ]
  },
  {
   "cell_type": "markdown",
   "metadata": {},
   "source": [
    "## S-lern"
   ]
  },
  {
   "cell_type": "code",
   "execution_count": 24,
   "metadata": {},
   "outputs": [
    {
     "data": {
      "text/html": [
       "<div>\n",
       "<style scoped>\n",
       "    .dataframe tbody tr th:only-of-type {\n",
       "        vertical-align: middle;\n",
       "    }\n",
       "\n",
       "    .dataframe tbody tr th {\n",
       "        vertical-align: top;\n",
       "    }\n",
       "\n",
       "    .dataframe thead th {\n",
       "        text-align: right;\n",
       "    }\n",
       "</style>\n",
       "<table border=\"1\" class=\"dataframe\">\n",
       "  <thead>\n",
       "    <tr style=\"text-align: right;\">\n",
       "      <th></th>\n",
       "      <th>recency</th>\n",
       "      <th>history</th>\n",
       "      <th>used_discount</th>\n",
       "      <th>used_bogo</th>\n",
       "      <th>is_referral</th>\n",
       "      <th>treatment</th>\n",
       "      <th>zip_code_Rural</th>\n",
       "      <th>zip_code_Surburban</th>\n",
       "      <th>zip_code_Urban</th>\n",
       "      <th>channel_Multichannel</th>\n",
       "      <th>channel_Phone</th>\n",
       "      <th>channel_Web</th>\n",
       "      <th>proba_CN</th>\n",
       "      <th>proba_CR</th>\n",
       "      <th>proba_TN</th>\n",
       "      <th>proba_TR</th>\n",
       "      <th>uplift_score</th>\n",
       "      <th>target_class</th>\n",
       "    </tr>\n",
       "  </thead>\n",
       "  <tbody>\n",
       "    <tr>\n",
       "      <th>0</th>\n",
       "      <td>3</td>\n",
       "      <td>977.51</td>\n",
       "      <td>1</td>\n",
       "      <td>1</td>\n",
       "      <td>1</td>\n",
       "      <td>0</td>\n",
       "      <td>0</td>\n",
       "      <td>0</td>\n",
       "      <td>1</td>\n",
       "      <td>0</td>\n",
       "      <td>0</td>\n",
       "      <td>1</td>\n",
       "      <td>0.476095</td>\n",
       "      <td>0.159710</td>\n",
       "      <td>0.280660</td>\n",
       "      <td>0.083534</td>\n",
       "      <td>-0.043654</td>\n",
       "      <td>0</td>\n",
       "    </tr>\n",
       "    <tr>\n",
       "      <th>1</th>\n",
       "      <td>4</td>\n",
       "      <td>391.10</td>\n",
       "      <td>1</td>\n",
       "      <td>0</td>\n",
       "      <td>0</td>\n",
       "      <td>0</td>\n",
       "      <td>1</td>\n",
       "      <td>0</td>\n",
       "      <td>0</td>\n",
       "      <td>1</td>\n",
       "      <td>0</td>\n",
       "      <td>0</td>\n",
       "      <td>0.443035</td>\n",
       "      <td>0.087289</td>\n",
       "      <td>0.285081</td>\n",
       "      <td>0.184594</td>\n",
       "      <td>0.456858</td>\n",
       "      <td>0</td>\n",
       "    </tr>\n",
       "    <tr>\n",
       "      <th>2</th>\n",
       "      <td>7</td>\n",
       "      <td>72.37</td>\n",
       "      <td>1</td>\n",
       "      <td>0</td>\n",
       "      <td>1</td>\n",
       "      <td>1</td>\n",
       "      <td>0</td>\n",
       "      <td>0</td>\n",
       "      <td>1</td>\n",
       "      <td>0</td>\n",
       "      <td>0</td>\n",
       "      <td>1</td>\n",
       "      <td>0.514386</td>\n",
       "      <td>0.015488</td>\n",
       "      <td>0.429174</td>\n",
       "      <td>0.040952</td>\n",
       "      <td>0.115756</td>\n",
       "      <td>2</td>\n",
       "    </tr>\n",
       "    <tr>\n",
       "      <th>3</th>\n",
       "      <td>10</td>\n",
       "      <td>67.40</td>\n",
       "      <td>1</td>\n",
       "      <td>0</td>\n",
       "      <td>0</td>\n",
       "      <td>1</td>\n",
       "      <td>0</td>\n",
       "      <td>0</td>\n",
       "      <td>1</td>\n",
       "      <td>0</td>\n",
       "      <td>0</td>\n",
       "      <td>1</td>\n",
       "      <td>0.386800</td>\n",
       "      <td>0.125233</td>\n",
       "      <td>0.415839</td>\n",
       "      <td>0.072128</td>\n",
       "      <td>-0.193534</td>\n",
       "      <td>2</td>\n",
       "    </tr>\n",
       "    <tr>\n",
       "      <th>4</th>\n",
       "      <td>2</td>\n",
       "      <td>45.68</td>\n",
       "      <td>1</td>\n",
       "      <td>0</td>\n",
       "      <td>1</td>\n",
       "      <td>1</td>\n",
       "      <td>0</td>\n",
       "      <td>0</td>\n",
       "      <td>1</td>\n",
       "      <td>0</td>\n",
       "      <td>1</td>\n",
       "      <td>0</td>\n",
       "      <td>0.517491</td>\n",
       "      <td>0.022507</td>\n",
       "      <td>0.412372</td>\n",
       "      <td>0.047630</td>\n",
       "      <td>0.123726</td>\n",
       "      <td>2</td>\n",
       "    </tr>\n",
       "  </tbody>\n",
       "</table>\n",
       "</div>"
      ],
      "text/plain": [
       "   recency  history  used_discount  used_bogo  is_referral  treatment  \\\n",
       "0        3   977.51              1          1            1          0   \n",
       "1        4   391.10              1          0            0          0   \n",
       "2        7    72.37              1          0            1          1   \n",
       "3       10    67.40              1          0            0          1   \n",
       "4        2    45.68              1          0            1          1   \n",
       "\n",
       "   zip_code_Rural  zip_code_Surburban  zip_code_Urban  channel_Multichannel  \\\n",
       "0               0                   0               1                     0   \n",
       "1               1                   0               0                     1   \n",
       "2               0                   0               1                     0   \n",
       "3               0                   0               1                     0   \n",
       "4               0                   0               1                     0   \n",
       "\n",
       "   channel_Phone  channel_Web  proba_CN  proba_CR  proba_TN  proba_TR  \\\n",
       "0              0            1  0.476095  0.159710  0.280660  0.083534   \n",
       "1              0            0  0.443035  0.087289  0.285081  0.184594   \n",
       "2              0            1  0.514386  0.015488  0.429174  0.040952   \n",
       "3              0            1  0.386800  0.125233  0.415839  0.072128   \n",
       "4              1            0  0.517491  0.022507  0.412372  0.047630   \n",
       "\n",
       "   uplift_score  target_class  \n",
       "0     -0.043654             0  \n",
       "1      0.456858             0  \n",
       "2      0.115756             2  \n",
       "3     -0.193534             2  \n",
       "4      0.123726             2  "
      ]
     },
     "execution_count": 24,
     "metadata": {},
     "output_type": "execute_result"
    }
   ],
   "source": [
    "df = pd.read_csv(\"discountuplift.csv\", sep=\"\\t\")\n",
    "df.head()"
   ]
  },
  {
   "cell_type": "code",
   "execution_count": 72,
   "metadata": {},
   "outputs": [],
   "source": [
    "df['old_target'] = df['target_class'] - 1\n",
    "\n",
    "feature_cols = ['recency', 'history', 'used_discount', 'used_bogo', 'is_referral',\n",
    "                'zip_code_Rural', 'zip_code_Surburban', 'zip_code_Urban',\n",
    "                'channel_Multichannel', 'channel_Phone', 'channel_Web']\n",
    "target_col = 'old_target'\n",
    "treatment_col = 'treatment'"
   ]
  },
  {
   "cell_type": "code",
   "execution_count": 73,
   "metadata": {},
   "outputs": [],
   "source": [
    "from sklearn.model_selection import train_test_split\n",
    "\n",
    "\n",
    "df_train, df_test = train_test_split(df, test_size=0.25, random_state=1)"
   ]
  },
  {
   "cell_type": "code",
   "execution_count": 74,
   "metadata": {},
   "outputs": [
    {
     "data": {
      "text/plain": [
       "0.41176"
      ]
     },
     "execution_count": 74,
     "metadata": {},
     "output_type": "execute_result"
    }
   ],
   "source": [
    "# доля значений 1 в целевой переменной из тренировочного датасета\n",
    "round(df_test[df_test['old_target'] == 1].shape[0] / df_test.shape[0], 5)"
   ]
  },
  {
   "cell_type": "code",
   "execution_count": 75,
   "metadata": {},
   "outputs": [
    {
     "name": "stdout",
     "output_type": "stream",
     "text": [
      "[ 0.63455629 -0.33398855  0.07575224 -0.37631997]\n"
     ]
    }
   ],
   "source": [
    "from sklearn.linear_model import LogisticRegression\n",
    "\n",
    "s_learner = LogisticRegression(random_state=1)\n",
    "s_learner.fit(X=df_train[feature_cols + [treatment_col]],\n",
    "              y=df_train[target_col])\n",
    "\n",
    "# посчитайте intercept\n",
    "print(s_learner.intercept_)"
   ]
  },
  {
   "cell_type": "code",
   "execution_count": 64,
   "metadata": {},
   "outputs": [],
   "source": [
    "#pip install scikit-uplift"
   ]
  },
  {
   "cell_type": "code",
   "execution_count": null,
   "metadata": {},
   "outputs": [
    {
     "ename": "ValueError",
     "evalue": "Input array is not binary. Array should contain only int or float binary values 0 (or 0.) and 1 (or 1.). Got values [0].",
     "output_type": "error",
     "traceback": [
      "\u001b[0;31m---------------------------------------------------------------------------\u001b[0m",
      "\u001b[0;31mValueError\u001b[0m                                Traceback (most recent call last)",
      "Cell \u001b[0;32mIn[81], line 16\u001b[0m\n\u001b[1;32m     13\u001b[0m \u001b[38;5;66;03m# Посчитаем Qini Score (используем библиотеку `sklift`)\u001b[39;00m\n\u001b[1;32m     14\u001b[0m \u001b[38;5;28;01mfrom\u001b[39;00m \u001b[38;5;21;01msklift\u001b[39;00m\u001b[38;5;21;01m.\u001b[39;00m\u001b[38;5;21;01mmetrics\u001b[39;00m \u001b[38;5;28;01mimport\u001b[39;00m qini_auc_score\n\u001b[0;32m---> 16\u001b[0m qini \u001b[38;5;241m=\u001b[39m \u001b[43mqini_auc_score\u001b[49m\u001b[43m(\u001b[49m\u001b[43mdf_test\u001b[49m\u001b[43m[\u001b[49m\u001b[43mtreatment_col\u001b[49m\u001b[43m]\u001b[49m\u001b[43m,\u001b[49m\u001b[43m \u001b[49m\u001b[43mdf_test\u001b[49m\u001b[43m[\u001b[49m\u001b[38;5;124;43m'\u001b[39;49m\u001b[38;5;124;43muplift_score\u001b[39;49m\u001b[38;5;124;43m'\u001b[39;49m\u001b[43m]\u001b[49m\u001b[43m,\u001b[49m\u001b[43m \u001b[49m\u001b[43mdf_test\u001b[49m\u001b[43m[\u001b[49m\u001b[43mtreatment_col\u001b[49m\u001b[43m]\u001b[49m\u001b[43m)\u001b[49m\n\u001b[1;32m     18\u001b[0m \u001b[38;5;28mprint\u001b[39m(\u001b[38;5;124m\"\u001b[39m\u001b[38;5;124mQini Score:\u001b[39m\u001b[38;5;124m\"\u001b[39m, qini)\n",
      "File \u001b[0;32m~/.local/lib/python3.10/site-packages/sklift/metrics/metrics.py:358\u001b[0m, in \u001b[0;36mqini_auc_score\u001b[0;34m(y_true, uplift, treatment, negative_effect)\u001b[0m\n\u001b[1;32m    356\u001b[0m \u001b[38;5;66;03m# TODO: Add Continuous Outcomes\u001b[39;00m\n\u001b[1;32m    357\u001b[0m check_consistent_length(y_true, uplift, treatment)\n\u001b[0;32m--> 358\u001b[0m \u001b[43mcheck_is_binary\u001b[49m\u001b[43m(\u001b[49m\u001b[43mtreatment\u001b[49m\u001b[43m)\u001b[49m\n\u001b[1;32m    359\u001b[0m check_is_binary(y_true)\n\u001b[1;32m    360\u001b[0m y_true, uplift, treatment \u001b[38;5;241m=\u001b[39m np\u001b[38;5;241m.\u001b[39marray(y_true), np\u001b[38;5;241m.\u001b[39marray(uplift), np\u001b[38;5;241m.\u001b[39marray(treatment)\n",
      "File \u001b[0;32m~/.local/lib/python3.10/site-packages/sklift/utils/utils.py:11\u001b[0m, in \u001b[0;36mcheck_is_binary\u001b[0;34m(array)\u001b[0m\n\u001b[1;32m      4\u001b[0m \u001b[38;5;250m\u001b[39m\u001b[38;5;124;03m\"\"\"Checker if array consists of int or float binary values 0 (0.) and 1 (1.)\u001b[39;00m\n\u001b[1;32m      5\u001b[0m \n\u001b[1;32m      6\u001b[0m \u001b[38;5;124;03mArgs:\u001b[39;00m\n\u001b[1;32m      7\u001b[0m \u001b[38;5;124;03m    array (1d array-like): Array to check.\u001b[39;00m\n\u001b[1;32m      8\u001b[0m \u001b[38;5;124;03m\"\"\"\u001b[39;00m\n\u001b[1;32m     10\u001b[0m \u001b[38;5;28;01mif\u001b[39;00m \u001b[38;5;129;01mnot\u001b[39;00m np\u001b[38;5;241m.\u001b[39mall(np\u001b[38;5;241m.\u001b[39munique(array) \u001b[38;5;241m==\u001b[39m np\u001b[38;5;241m.\u001b[39marray([\u001b[38;5;241m0\u001b[39m, \u001b[38;5;241m1\u001b[39m])):\n\u001b[0;32m---> 11\u001b[0m     \u001b[38;5;28;01mraise\u001b[39;00m \u001b[38;5;167;01mValueError\u001b[39;00m(\u001b[38;5;124mf\u001b[39m\u001b[38;5;124m\"\u001b[39m\u001b[38;5;124mInput array is not binary. \u001b[39m\u001b[38;5;124m\"\u001b[39m\n\u001b[1;32m     12\u001b[0m                      \u001b[38;5;124mf\u001b[39m\u001b[38;5;124m\"\u001b[39m\u001b[38;5;124mArray should contain only int or float binary values 0 (or 0.) and 1 (or 1.). \u001b[39m\u001b[38;5;124m\"\u001b[39m\n\u001b[1;32m     13\u001b[0m                      \u001b[38;5;124mf\u001b[39m\u001b[38;5;124m\"\u001b[39m\u001b[38;5;124mGot values \u001b[39m\u001b[38;5;132;01m{\u001b[39;00mnp\u001b[38;5;241m.\u001b[39munique(array)\u001b[38;5;132;01m}\u001b[39;00m\u001b[38;5;124m.\u001b[39m\u001b[38;5;124m\"\u001b[39m)\n",
      "\u001b[0;31mValueError\u001b[0m: Input array is not binary. Array should contain only int or float binary values 0 (or 0.) and 1 (or 1.). Got values [0]."
     ]
    }
   ],
   "source": [
    "# предскажем вероятность покупки, если скидка есть\n",
    "df_test[treatment_col] = 1\n",
    "df_test['yes_treatment'] = s_learner.predict_proba(df_test[feature_cols+[treatment_col]])[:,1]\n",
    "\n",
    "# предскажите вероятность покупки, если скидки нет \n",
    "df_test[treatment_col] = 0\n",
    "df_test['no_treatment'] = s_learner.predict_proba(df_test[feature_cols+[treatment_col]])[:,1]\n",
    "\n",
    "# посчитаем uplift на объектах тестовой выборки\n",
    "uplift_vals = df_test['yes_treatment'] - df_test['no_treatment']\n",
    "df_test['uplift_score'] = uplift_vals\n",
    "\n",
    "# Посчитаем Qini Score (используем библиотеку `sklift`)\n",
    "from sklift.metrics import qini_auc_score\n",
    "\n",
    "qini = qini_auc_score(df_test[target_col], df_test['uplift_score'], df_test[treatment_col])\n",
    "\n",
    "print(\"Qini Score:\", qini)"
   ]
  }
 ],
 "metadata": {
  "kernelspec": {
   "display_name": "Python 3",
   "language": "python",
   "name": "python3"
  },
  "language_info": {
   "codemirror_mode": {
    "name": "ipython",
    "version": 3
   },
   "file_extension": ".py",
   "mimetype": "text/x-python",
   "name": "python",
   "nbconvert_exporter": "python",
   "pygments_lexer": "ipython3",
   "version": "3.10.12"
  }
 },
 "nbformat": 4,
 "nbformat_minor": 2
}
